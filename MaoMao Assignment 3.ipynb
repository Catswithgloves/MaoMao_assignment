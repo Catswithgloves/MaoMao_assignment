{
 "cells": [
  {
   "cell_type": "markdown",
   "id": "8d160cd0",
   "metadata": {},
   "source": [
    "# Assignment 3 #  \n",
    "### 28st,Sep,2022 ###  \n",
    "**Mao Mao** \n"
   ]
  },
  {
   "cell_type": "markdown",
   "id": "19ea80ac",
   "metadata": {},
   "source": [
    "   Write a lambda expression to get the product of two numbers.\n",
    "   \n",
    "   Run test for expression(5,6) Output: 30"
   ]
  },
  {
   "cell_type": "code",
   "execution_count": 20,
   "id": "74c3db77",
   "metadata": {},
   "outputs": [
    {
     "data": {
      "text/plain": [
       "30"
      ]
     },
     "execution_count": 20,
     "metadata": {},
     "output_type": "execute_result"
    }
   ],
   "source": [
    "product= lambda num_1,num_2:num_1*num_2\n",
    "product(5,6)"
   ]
  },
  {
   "cell_type": "markdown",
   "id": "f2612810",
   "metadata": {},
   "source": [
    "Write a function to get the area of a circle from the radius.\n",
    "   \n",
    "   Hint: remember to import the right modul for being able to calculte the area of the circle.\n",
    "   \n",
    "   Run test for function(10) Output: 314.1592653589793"
   ]
  },
  {
   "cell_type": "code",
   "execution_count": 21,
   "id": "d6931cc4",
   "metadata": {},
   "outputs": [
    {
     "data": {
      "text/plain": [
       "314.1592653589793"
      ]
     },
     "execution_count": 21,
     "metadata": {},
     "output_type": "execute_result"
    }
   ],
   "source": [
    "from math import pi\n",
    "\n",
    "def area(radius):\n",
    "    return pi*radius*radius\n",
    "\n",
    "area(10)"
   ]
  },
  {
   "cell_type": "markdown",
   "id": "737b660e",
   "metadata": {},
   "source": [
    "Build a simple calculator which can: add, subtract, multiply, divide.\n",
    "   \n",
    "   Hint: solve by writing a function that takes as argument two numbers and the operation and returns the desired  output.\n",
    "   \n",
    "  Run test for function(2,5,’d’) Output: 0.4"
   ]
  },
  {
   "cell_type": "code",
   "execution_count": 22,
   "id": "099f7c1a",
   "metadata": {},
   "outputs": [
    {
     "name": "stdout",
     "output_type": "stream",
     "text": [
      "0.4\n"
     ]
    }
   ],
   "source": [
    "def calculate(num_1,num_2,operate):\n",
    "    if operate == 'a':\n",
    "        operate=num_1+num_2\n",
    "    elif operate == 'b':\n",
    "        operate=num_1-num_2\n",
    "    elif operate == 'm':\n",
    "        operate=num_1*num_2\n",
    "    elif operate == 'd':\n",
    "        operate=num_1/num_2\n",
    "    print (operate)\n",
    "    \n",
    "calculate(2,5,'d')"
   ]
  },
  {
   "cell_type": "markdown",
   "id": "55e9a9f8",
   "metadata": {},
   "source": [
    "Define a class named Rectangle which can be constructed by a length and width.The Rectangle class has a method which can compute the area\n",
    "\n",
    "   Run test for r = Rectangle(5,10)\n",
    "             r.area()\n",
    "      \n",
    "   Output: 50"
   ]
  },
  {
   "cell_type": "code",
   "execution_count": 23,
   "id": "0dd3f942",
   "metadata": {},
   "outputs": [
    {
     "data": {
      "text/plain": [
       "50"
      ]
     },
     "execution_count": 23,
     "metadata": {},
     "output_type": "execute_result"
    }
   ],
   "source": [
    "class Rectangle():\n",
    "    def __init__(self,length,width):\n",
    "        self.length = length\n",
    "        self.width = width\n",
    "    \n",
    "    def area(self):\n",
    "        return self.length*self.width\n",
    "    \n",
    "r = Rectangle(5,10)\n",
    "\n",
    "r.area()"
   ]
  },
  {
   "cell_type": "markdown",
   "id": "6a7fb2f3",
   "metadata": {},
   "source": [
    "Define a class named Shape and its subclass Square.\n",
    "\n",
    "   Shape objects can be consrtucted by name and length has an area function wich return 0\n",
    "   \n",
    "   Square subclass has an init function which take a length and name as argument and has an area method and a describe method what prints the name of the Shape.\n",
    "   \n",
    "   Print the area from Square class.\n",
    "   \n",
    "   Run test for: s = Square('square',5) \n",
    "                 print(s.area())\n",
    "                 print(s.describe()) \n",
    "   Output: The area is:\n",
    "                 25\n",
    "           This is a: square"
   ]
  },
  {
   "cell_type": "code",
   "execution_count": 41,
   "id": "127e915c",
   "metadata": {},
   "outputs": [],
   "source": [
    "class Shape():\n",
    "    def __init__(self,name,length):\n",
    "        self.name=name\n",
    "        self.length=length\n",
    "   \n",
    "    def area(self):\n",
    "        return self.length*self.length "
   ]
  },
  {
   "cell_type": "code",
   "execution_count": 37,
   "id": "6c38ea0e",
   "metadata": {},
   "outputs": [
    {
     "name": "stdout",
     "output_type": "stream",
     "text": [
      "The area is: 25\n",
      "This is a: square\n"
     ]
    }
   ],
   "source": [
    "class Square(Shape):\n",
    "    def __init__(self,name,length):\n",
    "        Shape.__init__(self,name,length)\n",
    "        \n",
    "    def describe(self):\n",
    "        return self.name\n",
    "\n",
    "s=Square(name='square',length=5)\n",
    "    \n",
    "print('The area is:',s.area())\n",
    "print('This is a:',s.describe())"
   ]
  },
  {
   "cell_type": "code",
   "execution_count": null,
   "id": "daebe305",
   "metadata": {},
   "outputs": [],
   "source": []
  }
 ],
 "metadata": {
  "kernelspec": {
   "display_name": "Python 3 (ipykernel)",
   "language": "python",
   "name": "python3"
  },
  "language_info": {
   "codemirror_mode": {
    "name": "ipython",
    "version": 3
   },
   "file_extension": ".py",
   "mimetype": "text/x-python",
   "name": "python",
   "nbconvert_exporter": "python",
   "pygments_lexer": "ipython3",
   "version": "3.9.12"
  }
 },
 "nbformat": 4,
 "nbformat_minor": 5
}
